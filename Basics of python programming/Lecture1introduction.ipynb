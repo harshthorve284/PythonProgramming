{
 "cells": [
  {
   "cell_type": "markdown",
   "metadata": {},
   "source": [
    "**Introduction to Python Programming**"
   ]
  },
  {
   "cell_type": "code",
   "execution_count": 27,
   "metadata": {},
   "outputs": [],
   "source": [
    "# Variable assignment\n",
    "\n",
    "number  =  100\n",
    "number1 =  100.20\n",
    "str  =  'Hello World'\n",
    "\n",
    "Num= '1234'\n",
    "\n",
    "num1,num2,num3 = 10,20,30\n",
    "\n"
   ]
  },
  {
   "cell_type": "code",
   "execution_count": 28,
   "metadata": {},
   "outputs": [
    {
     "name": "stdout",
     "output_type": "stream",
     "text": [
      "100\n"
     ]
    }
   ],
   "source": [
    "print(number)"
   ]
  },
  {
   "cell_type": "markdown",
   "metadata": {},
   "source": []
  },
  {
   "cell_type": "code",
   "execution_count": 32,
   "metadata": {},
   "outputs": [
    {
     "name": "stdout",
     "output_type": "stream",
     "text": [
      "the variable aname number is  100\n"
     ]
    }
   ],
   "source": [
    "print('the variable aname number is ', number)"
   ]
  },
  {
   "cell_type": "code",
   "execution_count": 47,
   "metadata": {},
   "outputs": [
    {
     "name": "stdout",
     "output_type": "stream",
     "text": [
      "the addition of number1 and number 2 is 3000\n"
     ]
    }
   ],
   "source": [
    "number1=1000\n",
    "number2=2000\n",
    "\n",
    "number3 = number1 + number2\n",
    "print('the addition of number1 and number 2 is',number3)"
   ]
  },
  {
   "cell_type": "code",
   "execution_count": 40,
   "metadata": {},
   "outputs": [
    {
     "name": "stdout",
     "output_type": "stream",
     "text": [
      "the subtraction of number1 and number 2 is -1000\n"
     ]
    }
   ],
   "source": [
    "number1=1000\n",
    "number2=2000\n",
    "\n",
    "number3 = number1 - number2\n",
    "print('the subtraction of number1 and number 2 is',number3)"
   ]
  },
  {
   "cell_type": "code",
   "execution_count": 41,
   "metadata": {},
   "outputs": [
    {
     "name": "stdout",
     "output_type": "stream",
     "text": [
      "the Multiplication of number1 and number 2 is 2000000\n"
     ]
    }
   ],
   "source": [
    "number1=1000\n",
    "number2=2000\n",
    "\n",
    "number3 = number1 * number2\n",
    "print('the Multiplication of number1 and number 2 is',number3)"
   ]
  },
  {
   "cell_type": "code",
   "execution_count": 44,
   "metadata": {},
   "outputs": [
    {
     "name": "stdout",
     "output_type": "stream",
     "text": [
      "the divison of number1 and number 2 is 2.0\n"
     ]
    }
   ],
   "source": [
    "number1= 1000\n",
    "number2= 2000\n",
    "\n",
    "number3 = number2 / number1\n",
    "print('the divison of number1 and number 2 is',number3)"
   ]
  },
  {
   "cell_type": "code",
   "execution_count": 46,
   "metadata": {},
   "outputs": [
    {
     "name": "stdout",
     "output_type": "stream",
     "text": [
      "the divison of number1 and number 2 is 2\n"
     ]
    }
   ],
   "source": [
    "# flow divison\n",
    "\n",
    "number1=1000\n",
    "number2=2000\n",
    "\n",
    "number3 = number2 // number1\n",
    "print('the divison of number1 and number 2 is',number3)"
   ]
  }
 ],
 "metadata": {
  "kernelspec": {
   "display_name": "base",
   "language": "python",
   "name": "python3"
  },
  "language_info": {
   "codemirror_mode": {
    "name": "ipython",
    "version": 3
   },
   "file_extension": ".py",
   "mimetype": "text/x-python",
   "name": "python",
   "nbconvert_exporter": "python",
   "pygments_lexer": "ipython3",
   "version": "3.12.7"
  }
 },
 "nbformat": 4,
 "nbformat_minor": 2
}
