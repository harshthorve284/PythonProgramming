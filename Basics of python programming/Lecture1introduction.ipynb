{
 "cells": [
  {
   "cell_type": "markdown",
   "metadata": {},
   "source": [
    "**Introduction to Python Programming**"
   ]
  },
  {
   "cell_type": "code",
   "execution_count": 11,
   "metadata": {},
   "outputs": [],
   "source": [
    "# Variable assignment\n",
    "\n",
    "number  =  100\n",
    "number1 =  100.20\n",
    "str  =  'Hello World'\n",
    "\n",
    "Num= '1234'\n",
    "\n",
    "num1,num2,num3 = 10,20,30\n",
    "\n"
   ]
  },
  {
   "cell_type": "code",
   "execution_count": 12,
   "metadata": {},
   "outputs": [
    {
     "name": "stdout",
     "output_type": "stream",
     "text": [
      "100\n"
     ]
    }
   ],
   "source": [
    "print(number)"
   ]
  },
  {
   "cell_type": "markdown",
   "metadata": {},
   "source": []
  },
  {
   "cell_type": "code",
   "execution_count": 13,
   "metadata": {},
   "outputs": [
    {
     "name": "stdout",
     "output_type": "stream",
     "text": [
      "the variable aname number is  100\n"
     ]
    }
   ],
   "source": [
    "print('the variable aname number is ', number)"
   ]
  },
  {
   "cell_type": "code",
   "execution_count": 14,
   "metadata": {},
   "outputs": [
    {
     "name": "stdout",
     "output_type": "stream",
     "text": [
      "the addition of number1 and number 2 is 3000\n"
     ]
    }
   ],
   "source": [
    "number1=1000\n",
    "number2=2000\n",
    "\n",
    "number3 = number1 + number2\n",
    "print('the addition of number1 and number 2 is',number3)"
   ]
  },
  {
   "cell_type": "code",
   "execution_count": 15,
   "metadata": {},
   "outputs": [
    {
     "name": "stdout",
     "output_type": "stream",
     "text": [
      "the subtraction of number1 and number 2 is -1000\n"
     ]
    }
   ],
   "source": [
    "number1=1000\n",
    "number2=2000\n",
    "\n",
    "number3 = number1 - number2\n",
    "print('the subtraction of number1 and number 2 is',number3)"
   ]
  },
  {
   "cell_type": "code",
   "execution_count": 16,
   "metadata": {},
   "outputs": [
    {
     "name": "stdout",
     "output_type": "stream",
     "text": [
      "the Multiplication of number1 and number 2 is 2000000\n"
     ]
    }
   ],
   "source": [
    "number1=1000\n",
    "number2=2000\n",
    "\n",
    "number3 = number1 * number2\n",
    "print('the Multiplication of number1 and number 2 is',number3)"
   ]
  },
  {
   "cell_type": "code",
   "execution_count": 17,
   "metadata": {},
   "outputs": [
    {
     "name": "stdout",
     "output_type": "stream",
     "text": [
      "the divison of number1 and number 2 is 2.0\n"
     ]
    }
   ],
   "source": [
    "number1= 1000\n",
    "number2= 2000\n",
    "\n",
    "number3 = number2 / number1\n",
    "print('the divison of number1 and number 2 is',number3)"
   ]
  },
  {
   "cell_type": "code",
   "execution_count": 18,
   "metadata": {},
   "outputs": [
    {
     "name": "stdout",
     "output_type": "stream",
     "text": [
      "the divison of number1 and number 2 is 2\n"
     ]
    }
   ],
   "source": [
    "# flow divison\n",
    "\n",
    "number1=1000\n",
    "number2=2000\n",
    "\n",
    "number3 = number2 // number1\n",
    "print('the divison of number1 and number 2 is',number3)"
   ]
  },
  {
   "cell_type": "code",
   "execution_count": 19,
   "metadata": {},
   "outputs": [
    {
     "name": "stdout",
     "output_type": "stream",
     "text": [
      "<class 'type'>\n"
     ]
    }
   ],
   "source": [
    "print(type)"
   ]
  },
  {
   "cell_type": "code",
   "execution_count": 20,
   "metadata": {},
   "outputs": [],
   "source": [
    "harsh=100\n"
   ]
  },
  {
   "cell_type": "code",
   "execution_count": 21,
   "metadata": {},
   "outputs": [
    {
     "name": "stdout",
     "output_type": "stream",
     "text": [
      "<class 'int'>\n"
     ]
    }
   ],
   "source": [
    "print(type(harsh))"
   ]
  },
  {
   "cell_type": "code",
   "execution_count": 22,
   "metadata": {},
   "outputs": [],
   "source": [
    "num1,num2,num3,_ =100,200,300,400"
   ]
  },
  {
   "cell_type": "code",
   "execution_count": 23,
   "metadata": {},
   "outputs": [
    {
     "name": "stdout",
     "output_type": "stream",
     "text": [
      "100 200 300 400\n"
     ]
    }
   ],
   "source": [
    "print(num1,num2,num3,_)"
   ]
  },
  {
   "cell_type": "code",
   "execution_count": 24,
   "metadata": {},
   "outputs": [
    {
     "name": "stdout",
     "output_type": "stream",
     "text": [
      "additioon of num and num1 12341234\n"
     ]
    }
   ],
   "source": [
    "num=2\n",
    "num1=\"1234\"\n",
    "print('additioon of num and num1',(num*num1))\n",
    "#it became concatination"
   ]
  },
  {
   "cell_type": "code",
   "execution_count": 25,
   "metadata": {},
   "outputs": [
    {
     "name": "stdout",
     "output_type": "stream",
     "text": [
      "helo world\n"
     ]
    }
   ],
   "source": [
    "print(\"helo world\")"
   ]
  },
  {
   "cell_type": "code",
   "execution_count": null,
   "metadata": {},
   "outputs": [],
   "source": [
    "#MARCH 27 LECTURE NO 2"
   ]
  },
  {
   "cell_type": "code",
   "execution_count": null,
   "metadata": {},
   "outputs": [
    {
     "name": "stdout",
     "output_type": "stream",
     "text": [
      "harsh\n"
     ]
    }
   ],
   "source": [
    "name=input('enter your name;')\n",
    "print(name)\n",
    "# if iam using the input as the funtion the output wil be string"
   ]
  },
  {
   "cell_type": "code",
   "execution_count": 7,
   "metadata": {},
   "outputs": [
    {
     "name": "stdout",
     "output_type": "stream",
     "text": [
      "<class 'str'>\n"
     ]
    }
   ],
   "source": [
    "print(type(name))"
   ]
  },
  {
   "cell_type": "code",
   "execution_count": null,
   "metadata": {},
   "outputs": [
    {
     "name": "stdout",
     "output_type": "stream",
     "text": [
      "100\n",
      "<class 'int'>\n"
     ]
    }
   ],
   "source": [
    "#Type casting\n",
    "\n",
    "num=int(input('enter the number:'))\n",
    "print(num)\n",
    "print(type(num))# typr casing string to int\n",
    "\n"
   ]
  },
  {
   "cell_type": "code",
   "execution_count": 26,
   "metadata": {},
   "outputs": [
    {
     "name": "stdout",
     "output_type": "stream",
     "text": [
      " the sum of two number is 300.0\n"
     ]
    }
   ],
   "source": [
    "#ADDITION OF TWO NUMBER\n",
    "\n",
    "num1=float(input('enter the first number:'))  #type casting\n",
    "\n",
    "num2=float(input('enter the second number:'))\n",
    "\n",
    "num3=num1+num2\n",
    "print(' the sum of two number is', num3)"
   ]
  },
  {
   "cell_type": "code",
   "execution_count": 31,
   "metadata": {},
   "outputs": [
    {
     "name": "stdout",
     "output_type": "stream",
     "text": [
      "[10, 10.2, 'hello world']\n"
     ]
    }
   ],
   "source": [
    "#data structure in python\n",
    "\n",
    "lst =[10,10.20,'hello world']\n",
    "print(lst)"
   ]
  }
 ],
 "metadata": {
  "kernelspec": {
   "display_name": "base",
   "language": "python",
   "name": "python3"
  },
  "language_info": {
   "codemirror_mode": {
    "name": "ipython",
    "version": 3
   },
   "file_extension": ".py",
   "mimetype": "text/x-python",
   "name": "python",
   "nbconvert_exporter": "python",
   "pygments_lexer": "ipython3",
   "version": "3.12.7"
  }
 },
 "nbformat": 4,
 "nbformat_minor": 2
}
